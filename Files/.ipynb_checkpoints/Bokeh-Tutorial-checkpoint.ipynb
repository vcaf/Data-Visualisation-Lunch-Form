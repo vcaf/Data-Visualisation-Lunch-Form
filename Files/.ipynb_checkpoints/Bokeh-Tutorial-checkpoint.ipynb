{
 "cells": [
  {
   "attachments": {
    "3e94bb8b-8289-4b88-a11c-5d46e6675f3e.png": {
     "image/png": "[encoded data removed]"
    }
   },
   "cell_type": "markdown",
   "id": "477176bc-1fd1-4ffb-9e06-901cb0007ae5",
   "metadata": {},
   "source": [
    "![image.png](attachment:3e94bb8b-8289-4b88-a11c-5d46e6675f3e.png)\n",
    "# Tutorial : Bokeh \n",
    "\n",
    "With just a few lines of Python code, Bokeh enables you to create interactive, JavaScript-powered visualizations displayable in a web browser.\n",
    "\n",
    "Goal: the goal of the notebook is to play around with Bokeh features and tools to get the hang of the library and how to use it for other projects that can benefit me in the visualization aspects.\n",
    "\n",
    "    source: https://docs.bokeh.org/en/latest/docs/first_steps/installation.html"
   ]
  },
  {
   "cell_type": "markdown",
   "id": "b6c71b97-eea8-4128-94a7-8a2661ea2807",
   "metadata": {},
   "source": [
    "# Installation"
   ]
  },
  {
   "cell_type": "code",
   "execution_count": 2,
   "id": "0af8fa0b-91af-4761-ae03-09f30576c3a4",
   "metadata": {
    "collapsed": true,
    "jupyter": {
     "outputs_hidden": true
    },
    "tags": []
   },
   "outputs": [
    {
     "name": "stdout",
     "output_type": "stream",
     "text": [
      "Collecting bokeh\n",
      "  Downloading bokeh-3.1.0-py3-none-any.whl (8.3 MB)\n",
      "     ---------------------------------------- 0.0/8.3 MB ? eta -:--:--\n",
      "     --- ------------------------------------ 0.8/8.3 MB 16.6 MB/s eta 0:00:01\n",
      "     ---------- ----------------------------- 2.2/8.3 MB 20.1 MB/s eta 0:00:01\n",
      "     --------------- ------------------------ 3.2/8.3 MB 20.2 MB/s eta 0:00:01\n",
      "     --------------------- ------------------ 4.4/8.3 MB 21.7 MB/s eta 0:00:01\n",
      "     -------------------------- ------------- 5.5/8.3 MB 22.0 MB/s eta 0:00:01\n",
      "     ------------------------------- -------- 6.6/8.3 MB 22.2 MB/s eta 0:00:01\n",
      "     ------------------------------------- -- 7.7/8.3 MB 22.3 MB/s eta 0:00:01\n",
      "     ---------------------------------------  8.3/8.3 MB 22.0 MB/s eta 0:00:01\n",
      "     ---------------------------------------- 8.3/8.3 MB 20.4 MB/s eta 0:00:00\n",
      "Collecting contourpy>=1\n",
      "  Downloading contourpy-1.0.7-cp38-cp38-win_amd64.whl (162 kB)\n",
      "     ---------------------------------------- 0.0/163.0 kB ? eta -:--:--\n",
      "     ------------------------------------- 163.0/163.0 kB 10.2 MB/s eta 0:00:00\n",
      "Requirement already satisfied: tornado>=5.1 in c:\\users\\victo\\appdata\\local\\programs\\python\\python38\\lib\\site-packages (from bokeh) (6.2)\n",
      "Requirement already satisfied: packaging>=16.8 in c:\\users\\victo\\appdata\\local\\programs\\python\\python38\\lib\\site-packages (from bokeh) (21.3)\n",
      "Requirement already satisfied: Jinja2>=2.9 in c:\\users\\victo\\appdata\\local\\programs\\python\\python38\\lib\\site-packages (from bokeh) (3.0.3)\n",
      "Requirement already satisfied: pillow>=7.1.0 in c:\\users\\victo\\appdata\\local\\programs\\python\\python38\\lib\\site-packages (from bokeh) (9.4.0)\n",
      "Requirement already satisfied: PyYAML>=3.10 in c:\\users\\victo\\appdata\\local\\programs\\python\\python38\\lib\\site-packages (from bokeh) (6.0)\n",
      "Requirement already satisfied: numpy>=1.16 in c:\\users\\victo\\appdata\\local\\programs\\python\\python38\\lib\\site-packages (from bokeh) (1.22.3)\n",
      "Collecting xyzservices>=2021.09.1\n",
      "  Downloading xyzservices-2023.2.0-py3-none-any.whl (55 kB)\n",
      "     ---------------------------------------- 0.0/55.4 kB ? eta -:--:--\n",
      "     ---------------------------------------- 55.4/55.4 kB ? eta 0:00:00\n",
      "Requirement already satisfied: pandas>=1.2 in c:\\users\\victo\\appdata\\local\\programs\\python\\python38\\lib\\site-packages (from bokeh) (1.4.2)\n",
      "Requirement already satisfied: MarkupSafe>=2.0 in c:\\users\\victo\\appdata\\local\\programs\\python\\python38\\lib\\site-packages (from Jinja2>=2.9->bokeh) (2.1.1)\n",
      "Requirement already satisfied: pyparsing!=3.0.5,>=2.0.2 in c:\\users\\victo\\appdata\\local\\programs\\python\\python38\\lib\\site-packages (from packaging>=16.8->bokeh) (3.0.8)\n",
      "Requirement already satisfied: python-dateutil>=2.8.1 in c:\\users\\victo\\appdata\\local\\programs\\python\\python38\\lib\\site-packages (from pandas>=1.2->bokeh) (2.8.2)\n",
      "Requirement already satisfied: pytz>=2020.1 in c:\\users\\victo\\appdata\\local\\programs\\python\\python38\\lib\\site-packages (from pandas>=1.2->bokeh) (2022.1)\n",
      "Requirement already satisfied: six>=1.5 in c:\\users\\victo\\appdata\\local\\programs\\python\\python38\\lib\\site-packages (from python-dateutil>=2.8.1->pandas>=1.2->bokeh) (1.16.0)\n",
      "Installing collected packages: xyzservices, contourpy, bokeh\n",
      "Successfully installed bokeh-3.1.0 contourpy-1.0.7 xyzservices-2023.2.0\n",
      "Note: you may need to restart the kernel to use updated packages.\n"
     ]
    },
    {
     "name": "stderr",
     "output_type": "stream",
     "text": [
      "WARNING: Ignoring invalid distribution -illow (c:\\users\\victo\\appdata\\local\\programs\\python\\python38\\lib\\site-packages)\n",
      "WARNING: Ignoring invalid distribution -illow (c:\\users\\victo\\appdata\\local\\programs\\python\\python38\\lib\\site-packages)\n",
      "WARNING: Ignoring invalid distribution -illow (c:\\users\\victo\\appdata\\local\\programs\\python\\python38\\lib\\site-packages)\n",
      "WARNING: Ignoring invalid distribution -illow (c:\\users\\victo\\appdata\\local\\programs\\python\\python38\\lib\\site-packages)\n",
      "WARNING: Ignoring invalid distribution -illow (c:\\users\\victo\\appdata\\local\\programs\\python\\python38\\lib\\site-packages)\n",
      "WARNING: Ignoring invalid distribution -illow (c:\\users\\victo\\appdata\\local\\programs\\python\\python38\\lib\\site-packages)\n",
      "WARNING: Ignoring invalid distribution -illow (c:\\users\\victo\\appdata\\local\\programs\\python\\python38\\lib\\site-packages)\n",
      "WARNING: Ignoring invalid distribution -illow (c:\\users\\victo\\appdata\\local\\programs\\python\\python38\\lib\\site-packages)\n",
      "WARNING: Ignoring invalid distribution -illow (c:\\users\\victo\\appdata\\local\\programs\\python\\python38\\lib\\site-packages)\n"
     ]
    }
   ],
   "source": [
    "pip install bokeh"
   ]
  },
  {
   "cell_type": "markdown",
   "id": "28bb5346-4acf-46ec-b0c1-1e0ff4051061",
   "metadata": {},
   "source": [
    "# 1. Creating a line chart\n",
    "\n"
   ]
  },
  {
   "cell_type": "markdown",
   "id": "db492b29-2a2b-410c-8b4e-38ff84fb51b4",
   "metadata": {},
   "source": [
    "## 1.1 Single Line Chart\n",
    "The first step of the tutorial will be visualzing a single line plot :"
   ]
  },
  {
   "cell_type": "code",
   "execution_count": 7,
   "id": "dec0a9ce-2526-40de-96f1-768852fa5e99",
   "metadata": {
    "tags": []
   },
   "outputs": [],
   "source": [
    "#Import the necessary functions from the bokeh.plotting module:\n",
    "from bokeh.plotting import figure, show"
   ]
  },
  {
   "cell_type": "markdown",
   "id": "308c99ff-2a0e-4fec-9444-8e5268ec7365",
   "metadata": {},
   "source": [
    "Define two lists containing the data for your line chart:"
   ]
  },
  {
   "cell_type": "code",
   "execution_count": 5,
   "id": "200d3455-9be3-4ba5-bfe3-469b1f192553",
   "metadata": {
    "tags": []
   },
   "outputs": [],
   "source": [
    "# prepare some data\n",
    "x = [1, 2, 3, 4, 5]\n",
    "y = [6, 7, 2, 4, 5]"
   ]
  },
  {
   "cell_type": "markdown",
   "id": "08672aba-dd9a-4d9b-96fe-0e98300dd75c",
   "metadata": {
    "tags": []
   },
   "source": [
    "Plotting the chart:"
   ]
  },
  {
   "cell_type": "code",
   "execution_count": 9,
   "id": "5ac3706c-4728-4f4c-a151-f270be75c9d6",
   "metadata": {
    "tags": []
   },
   "outputs": [],
   "source": [
    "# create a new plot with a title and axis labels\n",
    "p = figure(title=\"Simple line example\", x_axis_label=\"x\", y_axis_label=\"y\")"
   ]
  },
  {
   "cell_type": "markdown",
   "id": "1ac5812f-8382-4729-8adb-1118b5631f20",
   "metadata": {},
   "source": [
    "Add a line graph to the plot you just created, using the line() function. Pass the following arguments:"
   ]
  },
  {
   "cell_type": "code",
   "execution_count": 10,
   "id": "4ee2283c-4e39-4774-9aea-182371b23005",
   "metadata": {
    "tags": []
   },
   "outputs": [],
   "source": [
    "# add a line renderer with legend and line thickness\n",
    "p.line(x, y, legend_label=\"Temp.\", line_width=2)\n",
    "\n",
    "# show the results\n",
    "show(p)"
   ]
  },
  {
   "cell_type": "markdown",
   "id": "53392d2f-f9f0-40f6-9018-05f833e6c025",
   "metadata": {},
   "source": [
    "## 1.2. Combining multiple graphs\n",
    "With Bokeh’s bokeh.plotting interface, you can add more glyphs to your plot:"
   ]
  },
  {
   "cell_type": "code",
   "execution_count": 11,
   "id": "04e08328-119c-4e2b-b64e-0b111d91c535",
   "metadata": {
    "tags": []
   },
   "outputs": [],
   "source": [
    "# prepare some data\n",
    "x = [1, 2, 3, 4, 5]\n",
    "y1 = [6, 7, 2, 4, 5]\n",
    "y2 = [2, 3, 4, 5, 6]\n",
    "y3 = [4, 5, 5, 7, 2]"
   ]
  },
  {
   "cell_type": "code",
   "execution_count": 12,
   "id": "4c32ea2e-93f6-4cba-bbe1-adde01cb146c",
   "metadata": {
    "tags": []
   },
   "outputs": [],
   "source": [
    "# create a new plot with a title and axis labels\n",
    "p = figure(title=\"Multiple line example\", x_axis_label='x', y_axis_label='y')"
   ]
  },
  {
   "cell_type": "code",
   "execution_count": 13,
   "id": "e32c85d5-2bd8-45d3-a430-ad323e5cb662",
   "metadata": {
    "tags": []
   },
   "outputs": [
    {
     "data": {
      "text/html": [
       "<div style=\"display: table;\"><div style=\"display: table-row;\"><div style=\"display: table-cell;\"><b title=\"bokeh.models.renderers.glyph_renderer.GlyphRenderer\">GlyphRenderer</b>(</div><div style=\"display: table-cell;\">id&nbsp;=&nbsp;'p1456', <span id=\"p1461\" style=\"cursor: pointer;\">&hellip;)</span></div></div><div class=\"p1460\" style=\"display: none;\"><div style=\"display: table-cell;\"></div><div style=\"display: table-cell;\">coordinates&nbsp;=&nbsp;None,</div></div><div class=\"p1460\" style=\"display: none;\"><div style=\"display: table-cell;\"></div><div style=\"display: table-cell;\">data_source&nbsp;=&nbsp;ColumnDataSource(id='p1450', ...),</div></div><div class=\"p1460\" style=\"display: none;\"><div style=\"display: table-cell;\"></div><div style=\"display: table-cell;\">glyph&nbsp;=&nbsp;Line(id='p1453', ...),</div></div><div class=\"p1460\" style=\"display: none;\"><div style=\"display: table-cell;\"></div><div style=\"display: table-cell;\">group&nbsp;=&nbsp;None,</div></div><div class=\"p1460\" style=\"display: none;\"><div style=\"display: table-cell;\"></div><div style=\"display: table-cell;\">hover_glyph&nbsp;=&nbsp;None,</div></div><div class=\"p1460\" style=\"display: none;\"><div style=\"display: table-cell;\"></div><div style=\"display: table-cell;\">js_event_callbacks&nbsp;=&nbsp;{},</div></div><div class=\"p1460\" style=\"display: none;\"><div style=\"display: table-cell;\"></div><div style=\"display: table-cell;\">js_property_callbacks&nbsp;=&nbsp;{},</div></div><div class=\"p1460\" style=\"display: none;\"><div style=\"display: table-cell;\"></div><div style=\"display: table-cell;\">level&nbsp;=&nbsp;'glyph',</div></div><div class=\"p1460\" style=\"display: none;\"><div style=\"display: table-cell;\"></div><div style=\"display: table-cell;\">muted&nbsp;=&nbsp;False,</div></div><div class=\"p1460\" style=\"display: none;\"><div style=\"display: table-cell;\"></div><div style=\"display: table-cell;\">muted_glyph&nbsp;=&nbsp;Line(id='p1455', ...),</div></div><div class=\"p1460\" style=\"display: none;\"><div style=\"display: table-cell;\"></div><div style=\"display: table-cell;\">name&nbsp;=&nbsp;None,</div></div><div class=\"p1460\" style=\"display: none;\"><div style=\"display: table-cell;\"></div><div style=\"display: table-cell;\">nonselection_glyph&nbsp;=&nbsp;Line(id='p1454', ...),</div></div><div class=\"p1460\" style=\"display: none;\"><div style=\"display: table-cell;\"></div><div style=\"display: table-cell;\">propagate_hover&nbsp;=&nbsp;False,</div></div><div class=\"p1460\" style=\"display: none;\"><div style=\"display: table-cell;\"></div><div style=\"display: table-cell;\">selection_glyph&nbsp;=&nbsp;'auto',</div></div><div class=\"p1460\" style=\"display: none;\"><div style=\"display: table-cell;\"></div><div style=\"display: table-cell;\">subscribed_events&nbsp;=&nbsp;PropertyValueSet(),</div></div><div class=\"p1460\" style=\"display: none;\"><div style=\"display: table-cell;\"></div><div style=\"display: table-cell;\">syncable&nbsp;=&nbsp;True,</div></div><div class=\"p1460\" style=\"display: none;\"><div style=\"display: table-cell;\"></div><div style=\"display: table-cell;\">tags&nbsp;=&nbsp;[],</div></div><div class=\"p1460\" style=\"display: none;\"><div style=\"display: table-cell;\"></div><div style=\"display: table-cell;\">view&nbsp;=&nbsp;CDSView(id='p1457', ...),</div></div><div class=\"p1460\" style=\"display: none;\"><div style=\"display: table-cell;\"></div><div style=\"display: table-cell;\">visible&nbsp;=&nbsp;True,</div></div><div class=\"p1460\" style=\"display: none;\"><div style=\"display: table-cell;\"></div><div style=\"display: table-cell;\">x_range_name&nbsp;=&nbsp;'default',</div></div><div class=\"p1460\" style=\"display: none;\"><div style=\"display: table-cell;\"></div><div style=\"display: table-cell;\">y_range_name&nbsp;=&nbsp;'default')</div></div></div>\n",
       "<script>\n",
       "(function() {\n",
       "  let expanded = false;\n",
       "  const ellipsis = document.getElementById(\"p1461\");\n",
       "  ellipsis.addEventListener(\"click\", function() {\n",
       "    const rows = document.getElementsByClassName(\"p1460\");\n",
       "    for (let i = 0; i < rows.length; i++) {\n",
       "      const el = rows[i];\n",
       "      el.style.display = expanded ? \"none\" : \"table-row\";\n",
       "    }\n",
       "    ellipsis.innerHTML = expanded ? \"&hellip;)\" : \"&lsaquo;&lsaquo;&lsaquo;\";\n",
       "    expanded = !expanded;\n",
       "  });\n",
       "})();\n",
       "</script>\n"
      ],
      "text/plain": [
       "GlyphRenderer(id='p1456', ...)"
      ]
     },
     "execution_count": 13,
     "metadata": {},
     "output_type": "execute_result"
    }
   ],
   "source": [
    "# add multiple renderers\n",
    "p.line(x, y1, legend_label=\"Temp.\", color=\"blue\", line_width=2)\n",
    "p.line(x, y2, legend_label=\"Rate\", color=\"red\", line_width=2)\n",
    "p.line(x, y3, legend_label=\"Objects\", color=\"green\", line_width=2)"
   ]
  },
  {
   "cell_type": "code",
   "execution_count": 16,
   "id": "65370cce-a177-4272-a932-63209935b201",
   "metadata": {
    "tags": []
   },
   "outputs": [],
   "source": [
    "# show the results\n",
    "show(p)"
   ]
  },
  {
   "cell_type": "markdown",
   "id": "79b79896-1c2f-435b-ba1d-f73c392a3f1c",
   "metadata": {},
   "source": [
    "# 2. Adding and customizing renderers\n",
    "\n",
    "In section one we used used Bokeh’s figure() function to render line charts.\n",
    "\n",
    "In this section, we will use different renderer functions to create various other kinds of graphs. we will also customize what your glyphs look like.\n",
    "\n",
    "Bokeh’s plotting interface supports many different glyphs, such as lines, bars, hex tiles, or other polygons.\n",
    "\n"
   ]
  },
  {
   "cell_type": "markdown",
   "id": "cb5bb37c-0771-403f-8e6c-6620c17eea40",
   "metadata": {},
   "source": [
    "## 2.1. Rendering circles"
   ]
  },
  {
   "cell_type": "code",
   "execution_count": 15,
   "id": "04874a98-fb63-4a5e-83c9-ad3afdc5db7c",
   "metadata": {
    "tags": []
   },
   "outputs": [],
   "source": [
    "# we will be using the already prepared data from the previous section\n",
    "\n",
    "# create a new plot with a title and axis labels\n",
    "p = figure(title=\"Multiple glyphs example\", x_axis_label=\"x\", y_axis_label=\"y\")\n",
    "\n",
    "# add multiple renderers\n",
    "p.line(x, y1, legend_label=\"Temp.\", color=\"#004488\", line_width=3)\n",
    "p.line(x, y2, legend_label=\"Rate\", color=\"#906c18\", line_width=3)\n",
    "p.circle(x, y3, legend_label=\"Objects\", color=\"#bb5566\", size=16)\n",
    "\n",
    "# show the results\n",
    "show(p)"
   ]
  },
  {
   "cell_type": "markdown",
   "id": "e4ba18e2-11a8-4c0e-95f4-343e4c435be3",
   "metadata": {},
   "source": [
    "## 2.2. Rendering bars\n",
    "Adding the vbar() function to the previous visualization:"
   ]
  },
  {
   "cell_type": "code",
   "execution_count": 20,
   "id": "740e514b-6ee1-4eca-86fc-4d6f0ba8920c",
   "metadata": {
    "tags": []
   },
   "outputs": [],
   "source": [
    "# add multiple renderers\n",
    "p.line(x, y1, legend_label=\"Temp.\", color=\"blue\", line_width=2)\n",
    "p.vbar(x=x, top=y2, legend_label=\"Rate\", width=0.5, bottom=0, color=\"red\")\n",
    "p.circle(x, y3, legend_label=\"Objects\", color=\"yellow\", size=12)\n",
    "\n",
    "# show the results\n",
    "show(p)"
   ]
  },
  {
   "cell_type": "markdown",
   "id": "5c0445e5-deed-4c7f-b33f-817b2e570819",
   "metadata": {},
   "source": [
    "## 2.3. Customizing glyphs\n",
    "The different renderer functions accept various arguments to control what your glyphs look like.\n",
    "\n",
    "<b>Defining properties of new glyphs</b>\n",
    "\n",
    "The circle() function, for example, lets you define aspects like the color or diameter of the circles:\n",
    "\n",
    "- fill_color: the fill color of the circles\n",
    "- fill_alpha: the transparency of the fill color (any value between 0 and 1)\n",
    "- line_color: the fill color of the circles’ outlines\n",
    "- size: the size of the circles (in screen units or data units)\n",
    "- legend_label: legend entry for the circles\n",
    "\n"
   ]
  },
  {
   "cell_type": "markdown",
   "id": "7ee95f19-e69f-443f-8ee5-4514ac5f8bce",
   "metadata": {},
   "source": [
    "Create circles with the legend label “Objects” and make the circles appear slightly transparent with a red fill color and blue outlines:\n",
    "\n"
   ]
  },
  {
   "cell_type": "code",
   "execution_count": 23,
   "id": "e2122641-248b-4794-a295-34c821a71baa",
   "metadata": {
    "tags": []
   },
   "outputs": [],
   "source": [
    "# create a new plot with a title and axis labels\n",
    "p = figure(title=\"Glyphs properties example\", x_axis_label=\"x\", y_axis_label=\"y\")\n",
    "\n",
    "# add circle renderer with additional arguments\n",
    "p.circle(\n",
    "    x,\n",
    "    y,\n",
    "    legend_label=\"Objects\",\n",
    "    fill_color=\"red\",\n",
    "    fill_alpha=0.5,\n",
    "    line_color=\"blue\",\n",
    "    size=80,\n",
    ")\n",
    "\n",
    "# show the results\n",
    "show(p)"
   ]
  },
  {
   "cell_type": "markdown",
   "id": "a79f36cf-fb9a-4d99-a554-a08685096755",
   "metadata": {},
   "source": [
    "# 3. Adding legends, text, and annotations\n",
    "In the previous first steps guide, you generated different glyphs and defined their appearance.\n",
    "\n",
    "In this section, you will add and style a legend and a headline. You will also add additional information to your plot by including annotations."
   ]
  },
  {
   "cell_type": "markdown",
   "id": "e257fe27-20f3-472d-9a57-831fd6bda944",
   "metadata": {},
   "source": [
    "## 3.1. Adding and styling a legend"
   ]
  },
  {
   "cell_type": "markdown",
   "id": "7cdd3c59-8691-4dc7-872a-74abb93d40a2",
   "metadata": {},
   "source": [
    "Bokeh automatically adds a legend to your plot if you include the legend_label attribute when calling the renderer function. For example:"
   ]
  },
  {
   "cell_type": "code",
   "execution_count": 24,
   "id": "67b5088e-a885-4076-8cc4-0a25bfdceed0",
   "metadata": {
    "tags": []
   },
   "outputs": [
    {
     "data": {
      "text/html": [
       "<div style=\"display: table;\"><div style=\"display: table-row;\"><div style=\"display: table-cell;\"><b title=\"bokeh.models.renderers.glyph_renderer.GlyphRenderer\">GlyphRenderer</b>(</div><div style=\"display: table-cell;\">id&nbsp;=&nbsp;'p3924', <span id=\"p3964\" style=\"cursor: pointer;\">&hellip;)</span></div></div><div class=\"p3963\" style=\"display: none;\"><div style=\"display: table-cell;\"></div><div style=\"display: table-cell;\">coordinates&nbsp;=&nbsp;None,</div></div><div class=\"p3963\" style=\"display: none;\"><div style=\"display: table-cell;\"></div><div style=\"display: table-cell;\">data_source&nbsp;=&nbsp;ColumnDataSource(id='p3918', ...),</div></div><div class=\"p3963\" style=\"display: none;\"><div style=\"display: table-cell;\"></div><div style=\"display: table-cell;\">glyph&nbsp;=&nbsp;Circle(id='p3921', ...),</div></div><div class=\"p3963\" style=\"display: none;\"><div style=\"display: table-cell;\"></div><div style=\"display: table-cell;\">group&nbsp;=&nbsp;None,</div></div><div class=\"p3963\" style=\"display: none;\"><div style=\"display: table-cell;\"></div><div style=\"display: table-cell;\">hover_glyph&nbsp;=&nbsp;None,</div></div><div class=\"p3963\" style=\"display: none;\"><div style=\"display: table-cell;\"></div><div style=\"display: table-cell;\">js_event_callbacks&nbsp;=&nbsp;{},</div></div><div class=\"p3963\" style=\"display: none;\"><div style=\"display: table-cell;\"></div><div style=\"display: table-cell;\">js_property_callbacks&nbsp;=&nbsp;{},</div></div><div class=\"p3963\" style=\"display: none;\"><div style=\"display: table-cell;\"></div><div style=\"display: table-cell;\">level&nbsp;=&nbsp;'glyph',</div></div><div class=\"p3963\" style=\"display: none;\"><div style=\"display: table-cell;\"></div><div style=\"display: table-cell;\">muted&nbsp;=&nbsp;False,</div></div><div class=\"p3963\" style=\"display: none;\"><div style=\"display: table-cell;\"></div><div style=\"display: table-cell;\">muted_glyph&nbsp;=&nbsp;Circle(id='p3923', ...),</div></div><div class=\"p3963\" style=\"display: none;\"><div style=\"display: table-cell;\"></div><div style=\"display: table-cell;\">name&nbsp;=&nbsp;None,</div></div><div class=\"p3963\" style=\"display: none;\"><div style=\"display: table-cell;\"></div><div style=\"display: table-cell;\">nonselection_glyph&nbsp;=&nbsp;Circle(id='p3922', ...),</div></div><div class=\"p3963\" style=\"display: none;\"><div style=\"display: table-cell;\"></div><div style=\"display: table-cell;\">propagate_hover&nbsp;=&nbsp;False,</div></div><div class=\"p3963\" style=\"display: none;\"><div style=\"display: table-cell;\"></div><div style=\"display: table-cell;\">selection_glyph&nbsp;=&nbsp;'auto',</div></div><div class=\"p3963\" style=\"display: none;\"><div style=\"display: table-cell;\"></div><div style=\"display: table-cell;\">subscribed_events&nbsp;=&nbsp;PropertyValueSet(),</div></div><div class=\"p3963\" style=\"display: none;\"><div style=\"display: table-cell;\"></div><div style=\"display: table-cell;\">syncable&nbsp;=&nbsp;True,</div></div><div class=\"p3963\" style=\"display: none;\"><div style=\"display: table-cell;\"></div><div style=\"display: table-cell;\">tags&nbsp;=&nbsp;[],</div></div><div class=\"p3963\" style=\"display: none;\"><div style=\"display: table-cell;\"></div><div style=\"display: table-cell;\">view&nbsp;=&nbsp;CDSView(id='p3925', ...),</div></div><div class=\"p3963\" style=\"display: none;\"><div style=\"display: table-cell;\"></div><div style=\"display: table-cell;\">visible&nbsp;=&nbsp;True,</div></div><div class=\"p3963\" style=\"display: none;\"><div style=\"display: table-cell;\"></div><div style=\"display: table-cell;\">x_range_name&nbsp;=&nbsp;'default',</div></div><div class=\"p3963\" style=\"display: none;\"><div style=\"display: table-cell;\"></div><div style=\"display: table-cell;\">y_range_name&nbsp;=&nbsp;'default')</div></div></div>\n",
       "<script>\n",
       "(function() {\n",
       "  let expanded = false;\n",
       "  const ellipsis = document.getElementById(\"p3964\");\n",
       "  ellipsis.addEventListener(\"click\", function() {\n",
       "    const rows = document.getElementsByClassName(\"p3963\");\n",
       "    for (let i = 0; i < rows.length; i++) {\n",
       "      const el = rows[i];\n",
       "      el.style.display = expanded ? \"none\" : \"table-row\";\n",
       "    }\n",
       "    ellipsis.innerHTML = expanded ? \"&hellip;)\" : \"&lsaquo;&lsaquo;&lsaquo;\";\n",
       "    expanded = !expanded;\n",
       "  });\n",
       "})();\n",
       "</script>\n"
      ],
      "text/plain": [
       "GlyphRenderer(id='p3924', ...)"
      ]
     },
     "execution_count": 24,
     "metadata": {},
     "output_type": "execute_result"
    }
   ],
   "source": [
    "p.circle(x, y3, legend_label=\"Objects\")"
   ]
  },
  {
   "cell_type": "code",
   "execution_count": 27,
   "id": "3a642842-f0e9-45c6-ba8c-c8708c4ee02f",
   "metadata": {
    "tags": []
   },
   "outputs": [],
   "source": [
    "# create a new plot\n",
    "p = figure(title=\"Legend example\")\n",
    "\n",
    "# add circle renderer with legend_label arguments\n",
    "line = p.line(x, y1, legend_label=\"Temp.\", line_color=\"blue\", line_width=2)\n",
    "circle = p.circle(\n",
    "    x,\n",
    "    y2,\n",
    "    legend_label=\"Objects\",\n",
    "    fill_color=\"red\",\n",
    "    fill_alpha=0.5,\n",
    "    line_color=\"red\",\n",
    "    size=80,\n",
    ")\n",
    "\n",
    "# display legend in top left corner (default is top right corner)\n",
    "p.legend.location = \"top_left\"\n",
    "\n",
    "# add a title to your legend\n",
    "p.legend.title = \"Obervations\"\n",
    "\n",
    "# change appearance of legend text\n",
    "p.legend.label_text_font = \"times\"\n",
    "p.legend.label_text_font_style = \"italic\"\n",
    "p.legend.label_text_color = \"navy\"\n",
    "\n",
    "# change border and background of legend\n",
    "p.legend.border_line_width = 3\n",
    "p.legend.border_line_color = \"navy\"\n",
    "p.legend.border_line_alpha = 0.8\n",
    "p.legend.background_fill_color = \"navy\"\n",
    "p.legend.background_fill_alpha = 0.2\n",
    "\n",
    "# show the results\n",
    "show(p)"
   ]
  },
  {
   "cell_type": "markdown",
   "id": "e83e1ef0-0e21-4e0e-9031-830273f3c849",
   "metadata": {},
   "source": [
    "## 3.2. Customizing headlines\n",
    "Most of the examples so far have included a headline. You did this by passing the title argument to the figure() function:"
   ]
  },
  {
   "cell_type": "code",
   "execution_count": 28,
   "id": "ae2c8a23-d8f6-4cc0-b036-c44b29ac1f76",
   "metadata": {
    "tags": []
   },
   "outputs": [],
   "source": [
    "p = figure(title=\"Headline example\")"
   ]
  },
  {
   "cell_type": "markdown",
   "id": "c8dd6578-7ca3-4f71-a8f3-8ba76e9103c9",
   "metadata": {},
   "source": [
    "There are various ways to style the text for your headline. For example:"
   ]
  },
  {
   "cell_type": "code",
   "execution_count": 29,
   "id": "29c773e4-a0af-422a-b2df-5db6d3d11fa0",
   "metadata": {
    "tags": []
   },
   "outputs": [],
   "source": [
    "# create new plot\n",
    "p = figure(title=\"Headline example\")\n",
    "\n",
    "# add line renderer with a legend\n",
    "p.line(x, y, legend_label=\"Temp.\", line_width=2)\n",
    "\n",
    "# change headline location to the left\n",
    "p.title_location = \"left\"\n",
    "\n",
    "# change headline text\n",
    "p.title.text = \"Changing headline text example\"\n",
    "\n",
    "# style the headline\n",
    "p.title.text_font_size = \"25px\"\n",
    "p.title.align = \"right\"\n",
    "p.title.background_fill_color = \"darkgrey\"\n",
    "p.title.text_color = \"white\"\n",
    "\n",
    "# show the results\n",
    "show(p)"
   ]
  },
  {
   "cell_type": "markdown",
   "id": "a07797e7-b65e-4f4f-b46f-cac2f1ea7b3e",
   "metadata": {},
   "source": [
    "## 3.3. Using annotations\n",
    "Annotations are visual elements that you add to your plot to make it easier to read. For more information on the various kinds of annotations, see Annotations in the user guide.\n",
    "\n",
    "One example are box annotations. You can use box annotations to highlight certain areas of your plot.\n",
    "\n",
    "To add box annotations to your plot, you first need to import the BoxAnnotation class from bokeh.models:"
   ]
  },
  {
   "cell_type": "code",
   "execution_count": 33,
   "id": "a43e70a1-4fb7-4f42-97e3-7420968767fb",
   "metadata": {
    "tags": []
   },
   "outputs": [],
   "source": [
    "import random\n",
    "from bokeh.models import BoxAnnotation"
   ]
  },
  {
   "cell_type": "markdown",
   "id": "61d9b426-52cf-4c8d-ace3-3f02f6b78231",
   "metadata": {},
   "source": [
    "Next, create the BoxAnnotation objects. If you do not pass a value for bottom or top, Bokeh automatically extends the box’s dimension to the edges of the plot:\n",
    "\n"
   ]
  },
  {
   "cell_type": "code",
   "execution_count": 31,
   "id": "1714c1c7-8e68-4d40-8144-9e35a188af6e",
   "metadata": {
    "tags": []
   },
   "outputs": [],
   "source": [
    "low_box = BoxAnnotation(top=20, fill_alpha=0.2, fill_color=\"#F0E442\")\n",
    "mid_box = BoxAnnotation(bottom=20, top=80, fill_alpha=0.2, fill_color=\"#009E73\")\n",
    "high_box = BoxAnnotation(bottom=80, fill_alpha=0.2, fill_color=\"#F0E442\")"
   ]
  },
  {
   "cell_type": "markdown",
   "id": "eae89596-eec6-4be8-80eb-0a513b066c0a",
   "metadata": {},
   "source": [
    "Finally, you need to add the BoxAnnotation objects to your existing figure. Use the add_layout() method to add your boxes:"
   ]
  },
  {
   "cell_type": "code",
   "execution_count": 32,
   "id": "3143b8a1-5287-4d9f-9887-1db374880b4d",
   "metadata": {
    "tags": []
   },
   "outputs": [],
   "source": [
    "p.add_layout(low_box)\n",
    "p.add_layout(mid_box)\n",
    "p.add_layout(high_box)"
   ]
  },
  {
   "cell_type": "code",
   "execution_count": 34,
   "id": "81592e11-1ea7-4951-965a-57431b07bcca",
   "metadata": {
    "tags": []
   },
   "outputs": [],
   "source": [
    "# generate some data (1-50 for x, random values for y)\n",
    "x = list(range(0, 51))\n",
    "y = random.sample(range(0, 100), 51)\n",
    "\n",
    "# create new plot\n",
    "p = figure(title=\"Box annotation example\")\n",
    "\n",
    "# add line renderer\n",
    "line = p.line(x, y, line_color=\"#000000\", line_width=2)\n",
    "\n",
    "# add box annotations\n",
    "low_box = BoxAnnotation(top=20, fill_alpha=0.2, fill_color=\"#F0E442\")\n",
    "mid_box = BoxAnnotation(bottom=20, top=80, fill_alpha=0.2, fill_color=\"#009E73\")\n",
    "high_box = BoxAnnotation(bottom=80, fill_alpha=0.2, fill_color=\"#F0E442\")\n",
    "\n",
    "# add boxes to existing figure\n",
    "p.add_layout(low_box)\n",
    "p.add_layout(mid_box)\n",
    "p.add_layout(high_box)\n",
    "\n",
    "# show the results\n",
    "show(p)"
   ]
  },
  {
   "cell_type": "markdown",
   "id": "bfc7db47-bc03-4316-89bb-e46b30fa4a16",
   "metadata": {},
   "source": [
    "# 4. Customizing your plot\n",
    "In the previous first steps guides, you generated different glyphs and added more information such as a title, legend, and annotations.\n",
    "\n",
    "In this section, you will customize the appearance of the plot as a whole. This includes resizing your plot, changing its lines and colors, and customizing the axes and tools."
   ]
  },
  {
   "cell_type": "markdown",
   "id": "fba6306b-93d8-4d78-85e3-2f008655a312",
   "metadata": {},
   "source": [
    "## 4.1. Using Themes\n",
    "With Bokeh’s themes, you can quickly change the appearance of your plot. Themes are a set of pre-defined design parameters such as colors, fonts, or line styles.\n",
    "\n",
    "Bokeh comes with five built-in themes: <i>caliber, dark_minimal, light_minimal, night_sky, and contrast.</i> Additionally, you can define your own custom themes.\n",
    "\n",
    "To use one of the built-in themes, assign the name of the theme you want to use to the theme property of your document:"
   ]
  },
  {
   "cell_type": "code",
   "execution_count": 46,
   "id": "18588f07-0829-403a-be35-bdcb30a596c3",
   "metadata": {
    "tags": []
   },
   "outputs": [],
   "source": [
    "from bokeh.io import curdoc\n",
    "\n",
    "# prepare some data\n",
    "x = [1, 2, 3, 4, 5]\n",
    "y = [4, 5, 5, 7, 2]\n",
    "\n",
    "# apply theme to current document\n",
    "curdoc().theme = \"caliber\"\n",
    "\n",
    "# create a plot\n",
    "p = figure(sizing_mode=\"stretch_width\", max_width=500, height=250)\n",
    "\n",
    "# add a renderer\n",
    "p.line(x, y)\n",
    "\n",
    "# show the results\n",
    "show(p)"
   ]
  },
  {
   "cell_type": "markdown",
   "id": "8dec3191-2bfc-48a2-bd1a-bbc8d5626ac7",
   "metadata": {},
   "source": [
    "## 4.2. Resizing your plot"
   ]
  },
  {
   "cell_type": "markdown",
   "id": "fbe1ef5d-e236-4a1a-babf-7c1eb8adcc0e",
   "metadata": {},
   "source": [
    "### 4.2.1. Setting width and height\n",
    "To set the size of your plot, use the attributes width and height when calling the figure() function:\n"
   ]
  },
  {
   "cell_type": "code",
   "execution_count": 42,
   "id": "8c8e3ffe-9938-4ecb-bcde-6e8077714b8f",
   "metadata": {
    "tags": []
   },
   "outputs": [],
   "source": [
    "# create a new plot with a specific size\n",
    "p = figure(\n",
    "    title=\"Plot sizing example\",\n",
    "    width=350,\n",
    "    height=250,\n",
    "    x_axis_label=\"x\",\n",
    "    y_axis_label=\"y\",\n",
    ")\n",
    "\n",
    "# add circle renderer\n",
    "p.circle(x, y, fill_color=\"red\", size=15)\n",
    "\n",
    "# show the results\n",
    "show(p)"
   ]
  },
  {
   "cell_type": "markdown",
   "id": "7894f9e2-05de-43ee-b462-8b9f8d8ce38d",
   "metadata": {},
   "source": [
    "Similar to changing the design of an existing glyph, you can change a plot’s attributes at any time after its creation:"
   ]
  },
  {
   "cell_type": "code",
   "execution_count": 43,
   "id": "9513b640-6027-44f1-8503-d2afd039b230",
   "metadata": {
    "tags": []
   },
   "outputs": [],
   "source": [
    "# change plot size\n",
    "p.width = 450\n",
    "p.height = 150\n",
    "\n",
    "# add circle renderer\n",
    "circle = p.circle(x, y, fill_color=\"red\", size=15)\n",
    "\n",
    "# show the results\n",
    "show(p)"
   ]
  },
  {
   "cell_type": "markdown",
   "id": "2b99d62b-58d5-4359-be05-c822c08cba52",
   "metadata": {},
   "source": [
    "### 4.2.2. Enabling responsive plot sizing\n",
    "To make your plot automatically adjust to your browser or screen size, use the attribute sizing_mode:\n",
    "\n"
   ]
  },
  {
   "cell_type": "code",
   "execution_count": 44,
   "id": "12a6260a-c6bf-4f65-856f-b0a6ee89f162",
   "metadata": {
    "tags": []
   },
   "outputs": [],
   "source": [
    "# create a new plot with responsive width\n",
    "p = figure(\n",
    "    title=\"Plot responsive sizing example\",\n",
    "    sizing_mode=\"stretch_width\",\n",
    "    height=250,\n",
    "    x_axis_label=\"x\",\n",
    "    y_axis_label=\"y\",\n",
    ")\n",
    "\n",
    "# add circle renderer\n",
    "circle = p.circle(x, y, fill_color=\"red\", size=15)\n",
    "\n",
    "# show the results\n",
    "show(p)"
   ]
  },
  {
   "cell_type": "markdown",
   "id": "88f0b710-4f70-4fb1-a7ba-1c9447a21242",
   "metadata": {},
   "source": [
    "## 4.3. Customizing axes"
   ]
  },
  {
   "cell_type": "markdown",
   "id": "053450dd-f2c8-4952-b9b4-77868fd54822",
   "metadata": {},
   "source": [
    "### 4.3.1. Setting your axes’ appearance\n",
    "Options for customizing the appearance of your plot include:\n",
    "\n",
    "- setting labels for your axes\n",
    "- styling the numbers displayed with your axes\n",
    "- defining colors and other layout properties for the axes themselves\n",
    "\n",
    "For example:\n",
    "\n"
   ]
  },
  {
   "cell_type": "code",
   "execution_count": 47,
   "id": "eaa436ab-a7fc-4208-9b8c-5572fef2377a",
   "metadata": {
    "tags": []
   },
   "outputs": [],
   "source": [
    "# create a plot\n",
    "p = figure(\n",
    "    title=\"Customized axes example\",\n",
    "    sizing_mode=\"stretch_width\",\n",
    "    max_width=500,\n",
    "    height=350,\n",
    ")\n",
    "\n",
    "# add a renderer\n",
    "p.circle(x, y, size=10)\n",
    "\n",
    "# change some things about the x-axis\n",
    "p.xaxis.axis_label = \"Temp\"\n",
    "p.xaxis.axis_line_width = 3\n",
    "p.xaxis.axis_line_color = \"red\"\n",
    "\n",
    "# change some things about the y-axis\n",
    "p.yaxis.axis_label = \"Pressure\"\n",
    "p.yaxis.major_label_text_color = \"orange\"\n",
    "p.yaxis.major_label_orientation = \"vertical\"\n",
    "\n",
    "# change things on all axes\n",
    "p.axis.minor_tick_in = -3\n",
    "p.axis.minor_tick_out = 6\n",
    "\n",
    "# show the results\n",
    "show(p)"
   ]
  },
  {
   "cell_type": "markdown",
   "id": "c236dc84-b572-4008-ba7f-d7dfa0d17fb9",
   "metadata": {},
   "source": [
    "### 4.3.2. Defining axis ranges\n",
    "When drawing the axes for your plot, Bokeh automatically determines the range each axis needs to cover in order to display all your values. For example, if the values on your y-axis are between 2 and 17, Bokeh automatically creates a y-axis that ranges from a little below 2 to a little above 17.\n",
    "\n",
    "To define the range for your axes manually, use the y_range() function or the y_range() properties of your Plot object when you call the figure() function:"
   ]
  },
  {
   "cell_type": "code",
   "execution_count": 49,
   "id": "915a3172-5534-41be-9fad-e8c45d364d70",
   "metadata": {
    "tags": []
   },
   "outputs": [],
   "source": [
    "# create a new plot with responsive width\n",
    "p = figure(\n",
    "    y_range=(0, 25),\n",
    "    title=\"Axis range example\",\n",
    "    sizing_mode=\"stretch_width\",\n",
    "    max_width=500,\n",
    "    height=250,\n",
    ")\n",
    "\n",
    "# add circle renderer with additional arguments\n",
    "circle = p.circle(x, y, size=8)\n",
    "\n",
    "# show the results\n",
    "show(p)"
   ]
  },
  {
   "cell_type": "markdown",
   "id": "074e15cb-55d2-46bb-abc6-a02c459942e8",
   "metadata": {},
   "source": [
    "### 4.3.3. Enabling logarithmic axes\n",
    "You can also change the axis type altogether. Use y_axis_type=\"log\" to switch to logarithmic axes:"
   ]
  },
  {
   "cell_type": "code",
   "execution_count": 50,
   "id": "8134c635-b5d0-439a-94c6-c605ffbd7073",
   "metadata": {
    "tags": []
   },
   "outputs": [],
   "source": [
    "# prepare some data\n",
    "x = [0.1, 0.5, 1.0, 1.5, 2.0, 2.5, 3.0]\n",
    "y0 = [i**2 for i in x]\n",
    "y1 = [10**i for i in x]\n",
    "y2 = [10**(i**2) for i in x]\n",
    "\n",
    "# create a new plot with a logarithmic axis type\n",
    "p = figure(\n",
    "    title=\"Logarithmic axis example\",\n",
    "    sizing_mode=\"stretch_width\",\n",
    "    height=300,\n",
    "    max_width=500,\n",
    "    y_axis_type=\"log\",\n",
    "    y_range=[0.001, 10 ** 11],\n",
    "    x_axis_label=\"sections\",\n",
    "    y_axis_label=\"particles\",\n",
    ")\n",
    "\n",
    "# add some renderers\n",
    "p.line(x, x, legend_label=\"y=x\")\n",
    "p.circle(x, x, legend_label=\"y=x\", fill_color=\"white\", size=8)\n",
    "p.line(x, y0, legend_label=\"y=x^2\", line_width=3)\n",
    "p.line(x, y1, legend_label=\"y=10^x\", line_color=\"red\")\n",
    "p.circle(x, y1, legend_label=\"y=10^x\", fill_color=\"red\", line_color=\"red\", size=6)\n",
    "p.line(x, y2, legend_label=\"y=10^x^2\", line_color=\"orange\", line_dash=\"4 4\")\n",
    "\n",
    "# show the results\n",
    "show(p)"
   ]
  },
  {
   "cell_type": "markdown",
   "id": "5a609f4c-4765-4dcd-9352-04a7588bbe70",
   "metadata": {},
   "source": [
    "### 4.3.4. Enabling datetime axes\n",
    "Set the x_axis_type or y_axis_type to datetime to display date or time information on an axis. Bokeh then creates a DatetimeAxis.\n",
    "\n",
    "To format the ticks of a DatetimeAxis, use the DatetimeTickFormatter.\n",
    "\n"
   ]
  },
  {
   "cell_type": "code",
   "execution_count": 52,
   "id": "5246df75-95d9-4ad2-b741-bc719ed54aed",
   "metadata": {
    "tags": []
   },
   "outputs": [],
   "source": [
    "from datetime import datetime, timedelta\n",
    "\n",
    "from bokeh.models import DatetimeTickFormatter, NumeralTickFormatter\n",
    "\n",
    "# generate list of dates (today's date in subsequent weeks)\n",
    "dates = [(datetime.now() + timedelta(day * 7)) for day in range(0, 26)]\n",
    "\n",
    "# generate 25 random data points\n",
    "y = random.sample(range(0, 100), 26)\n",
    "\n",
    "# create new plot\n",
    "p = figure(\n",
    "    title=\"datetime axis example\",\n",
    "    x_axis_type=\"datetime\",\n",
    "    sizing_mode=\"stretch_width\",\n",
    "    max_width=500,\n",
    "    height=250,\n",
    ")\n",
    "\n",
    "# add renderers\n",
    "p.circle(dates, y, size=8)\n",
    "p.line(dates, y, color=\"navy\", line_width=1)\n",
    "\n",
    "# format axes ticks\n",
    "p.yaxis[0].formatter = NumeralTickFormatter(format=\"$0.00\")\n",
    "p.xaxis[0].formatter = DatetimeTickFormatter(months=\"%b %Y\")\n",
    "\n",
    "# show the results\n",
    "show(p)\n"
   ]
  },
  {
   "cell_type": "markdown",
   "id": "b26efe21-7a12-48c8-9a59-8397d8a85aeb",
   "metadata": {},
   "source": [
    "## 4.4. Customizing the grid\n",
    "To change the appearance of the grid, set the various properties of the xgrid(), ygrid(), and grid() methods of your Plot object."
   ]
  },
  {
   "cell_type": "markdown",
   "id": "f588cfc3-dd53-4958-9234-9a9e1de8cd48",
   "metadata": {},
   "source": [
    "### 4.4.1. Styling lines\n",
    "Change what the horizontal and vertical lines of your grid look like by setting the various grid_line properties:\n",
    "\n"
   ]
  },
  {
   "cell_type": "code",
   "execution_count": 53,
   "id": "e756ad0c-d98d-4b3a-985c-8735d5baa0e5",
   "metadata": {
    "tags": []
   },
   "outputs": [],
   "source": [
    "# prepare some data\n",
    "x = [1, 2, 3, 4, 5]\n",
    "y = [4, 5, 5, 7, 2]\n",
    "\n",
    "# create a plot\n",
    "p = figure(\n",
    "    title=\"Customized grid lines example\",\n",
    "    sizing_mode=\"stretch_width\",\n",
    "    max_width=500,\n",
    "    height=250,\n",
    ")\n",
    "\n",
    "# add a renderer\n",
    "p.line(x, y, line_color=\"green\", line_width=2)\n",
    "\n",
    "# change things only on the x-grid\n",
    "p.xgrid.grid_line_color = \"red\"\n",
    "\n",
    "# change things only on the y-grid\n",
    "p.ygrid.grid_line_alpha = 0.8\n",
    "p.ygrid.grid_line_dash = [6, 4]\n",
    "\n",
    "# show the results\n",
    "show(p)"
   ]
  },
  {
   "cell_type": "markdown",
   "id": "f54d26e2-ade4-41ec-ace8-0eb4b7bbb8e6",
   "metadata": {},
   "source": [
    "### 4.4.2. Using bands and bounds\n",
    "Another way to make reading your plot easier is to use bands and bounds.\n",
    "\n",
    "Bands and bounds are more examples of the annotations you learned about in Using annotations.\n",
    "\n"
   ]
  },
  {
   "cell_type": "code",
   "execution_count": 57,
   "id": "9dac6e28-d1a3-4f10-ad1e-a390a07c9bc0",
   "metadata": {
    "tags": []
   },
   "outputs": [],
   "source": [
    "# create a plot\n",
    "p = figure(\n",
    "    title=\"Bands and bonds example\",\n",
    "    sizing_mode=\"stretch_width\",\n",
    "    max_width=500,\n",
    "    height=250,\n",
    ")\n",
    "\n",
    "# add a renderer\n",
    "p.line(x, y, line_color=\"green\", line_width=2)\n",
    "\n",
    "# add bands to the y-grid\n",
    "p.ygrid.band_fill_color = \"olive\"\n",
    "p.ygrid.band_fill_alpha = 0.1\n",
    "\n",
    "# define vertical bonds\n",
    "p.xgrid.bounds = (2, 4)\n",
    "\n",
    "# show the results\n",
    "show(p)"
   ]
  },
  {
   "cell_type": "markdown",
   "id": "b73c15cc-6c3d-4348-b3da-cec44a0dd5b3",
   "metadata": {},
   "source": [
    "### 4.4.3. Setting background colors\n",
    "You have several options to define colors in Bokeh. For example:\n",
    "\n",
    "- Use one of the named CSS colors (for example, \"firebrick\")\n",
    "- Use hexadecimal values, prefaced with a # (for example \"#00ff00\")\n",
    "- Use a 3-tuple for RGB colors (for example, (100, 100, 255)\n",
    "- Use a 4-tuple for RGBA colors (for example (100, 100, 255, 0.5))\n",
    "\n",
    "To change the appearance of the plane that Bokeh draws your plot elements on, use the various fill_color attributes of your Plot object:\n",
    "\n"
   ]
  },
  {
   "cell_type": "code",
   "execution_count": 58,
   "id": "e30b2ad5-fd0e-4320-86be-e4c92696bfca",
   "metadata": {
    "tags": []
   },
   "outputs": [],
   "source": [
    "# create a plot\n",
    "p = figure(\n",
    "    title=\"Background colors example\",\n",
    "    sizing_mode=\"stretch_width\",\n",
    "    max_width=500,\n",
    "    height=250,\n",
    ")\n",
    "\n",
    "# add a renderer\n",
    "p.line(x, y, line_color=\"green\", line_width=2)\n",
    "\n",
    "# change the fill colors\n",
    "p.background_fill_color = (204, 255, 255)\n",
    "p.border_fill_color = (102, 204, 255)\n",
    "p.outline_line_color = (0, 0, 255)\n",
    "\n",
    "# show the results\n",
    "show(p)"
   ]
  },
  {
   "cell_type": "markdown",
   "id": "3d4d8854-4d5c-423d-b537-ceeda684f2da",
   "metadata": {},
   "source": [
    "## 4.5. Customizing the toolbar"
   ]
  },
  {
   "cell_type": "markdown",
   "id": "146a1978-11b2-468e-ad4c-a77f6e38016e",
   "metadata": {},
   "source": [
    "### 4.5.1. Positioning the toolbar\n",
    "To define the position of the toolbar, use the toolbar_location attribute with one of these values: above, below, left, right\n",
    "\n",
    "Pass a value to toolbar_location when creating your figure:"
   ]
  },
  {
   "cell_type": "code",
   "execution_count": 61,
   "id": "59a564fa-70f2-4b73-8944-f1e433c8853b",
   "metadata": {
    "tags": []
   },
   "outputs": [],
   "source": [
    "# create a plot\n",
    "p = figure(\n",
    "    title=\"Background colors example\",\n",
    "    sizing_mode=\"stretch_width\",\n",
    "    max_width=500,\n",
    "    height=250,\n",
    "    toolbar_location=\"below\",\n",
    ")\n",
    "\n",
    "# add a renderer\n",
    "p.line(x, y, line_color=\"green\", line_width=2)\n",
    "show(p)"
   ]
  },
  {
   "cell_type": "markdown",
   "id": "b5aa15c4-99a0-4377-b23f-3ff08f37e193",
   "metadata": {},
   "source": [
    "### 4.5.2. Deactivating and hiding the toolbar\n",
    "To deactivate the toolbar completely, set toolbar_location to None.\n",
    "\n"
   ]
  },
  {
   "cell_type": "code",
   "execution_count": 65,
   "id": "5bf64cf5-8dc1-460f-b7ed-00dd89e1ac8b",
   "metadata": {
    "tags": []
   },
   "outputs": [],
   "source": [
    "# create a plot\n",
    "p = figure(\n",
    "    title=\"Toolbar autohide example\",\n",
    "    sizing_mode=\"stretch_width\",\n",
    "    max_width=500,\n",
    "    height=250,\n",
    ")\n",
    "\n",
    "# activate toolbar autohide\n",
    "p.toolbar_location = None\n",
    "\n",
    "# add a renderer\n",
    "p.line(x, y)\n",
    "\n",
    "# show the results\n",
    "show(p)"
   ]
  },
  {
   "cell_type": "markdown",
   "id": "d834ce51-24ff-4aa4-aca0-a2b10748902e",
   "metadata": {},
   "source": [
    "To make your toolbar hide automatically, set autohide to True:"
   ]
  },
  {
   "cell_type": "code",
   "execution_count": 66,
   "id": "a7504dd0-4b7f-4273-85c8-0febda02466e",
   "metadata": {
    "tags": []
   },
   "outputs": [],
   "source": [
    "# create a plot\n",
    "p = figure(\n",
    "    title=\"Toolbar autohide example\",\n",
    "    sizing_mode=\"stretch_width\",\n",
    "    max_width=500,\n",
    "    height=250,\n",
    ")\n",
    "\n",
    "# activate toolbar autohide\n",
    "p.toolbar.autohide = True\n",
    "\n",
    "# add a renderer\n",
    "p.line(x, y)\n",
    "\n",
    "# show the results\n",
    "show(p)"
   ]
  },
  {
   "cell_type": "markdown",
   "id": "e9bc62f4-21c5-45a3-8420-adc01c9de332",
   "metadata": {
    "tags": []
   },
   "source": [
    "### 4.5.3. Customizing available tools\n",
    "You can customize which tools Bokeh displays in the toolbar. For a detailed list of all available tools, see Plot tools in the user guide.\n",
    "\n",
    "To customize which tools to use, you first need to import the relevant tools. For example:\n",
    "\n"
   ]
  },
  {
   "cell_type": "code",
   "execution_count": 68,
   "id": "2c969b84-1057-4ba8-b04b-c86b3bcb606a",
   "metadata": {
    "tags": []
   },
   "outputs": [],
   "source": [
    "from bokeh.models.tools import BoxZoomTool, ResetTool"
   ]
  },
  {
   "cell_type": "markdown",
   "id": "40109461-0924-41d9-8503-7733c6a4ac38",
   "metadata": {
    "tags": []
   },
   "source": [
    "Next, define which tools to use when creating a new figure by passing the tools attribute to the figure() function.\n",
    "\n",
    "The tools attribute accepts a list of tools. This example enables only the BoxZoomTool and ResetTool:\n"
   ]
  },
  {
   "cell_type": "code",
   "execution_count": 70,
   "id": "55b6fff0-2c90-41f2-957c-8a0ea1c9236e",
   "metadata": {
    "tags": []
   },
   "outputs": [],
   "source": [
    "# create a plot\n",
    "p = figure(\n",
    "    title=\"Toolbar autohide example\",\n",
    "    sizing_mode=\"stretch_width\",\n",
    "    max_width=500,\n",
    "    height=250,\n",
    "    tools = [BoxZoomTool(), ResetTool()]\n",
    ")\n",
    "\n",
    "# activate toolbar autohide\n",
    "p.toolbar.autohide = True\n",
    "\n",
    "# add a renderer\n",
    "p.line(x, y)\n",
    "\n",
    "# show the results\n",
    "show(p)"
   ]
  },
  {
   "cell_type": "markdown",
   "id": "1778a222-f761-4e81-87f2-cebc9c34c8d9",
   "metadata": {},
   "source": [
    "## 4.6. Adding tooltips\n",
    "Tooltips are little windows that appear when you hover your mouse over a data point or when you tap on a data point.\n",
    "Tooltips are based on the HoverTool. The hover tool is part of Bokeh’s toolbar.\n",
    "\n",
    "There are several ways to enable tooltips in Bokeh. This is the quickest:\n",
    "\n",
    "1. Import the HoverTool class from bokeh.models.tools.\n",
    "2. Include HoverTool() in the list passed to the tools argument when calling the figure() function.\n",
    "3. Include the tooltips argument when calling the figure() function.\n",
    "\n",
    "The tooltips argument accepts a string with a special syntax. Use the “@” symbol to include the name of the source for the data you want Bokeh to display. This example includes @x and @y. When the browser displays a tooltip, Bokeh replaces both those fields with the actual data from the lists x and y .\n",
    "\n",
    "This is what the code looks like:\n",
    "\n",
    "\n",
    "\n"
   ]
  },
  {
   "cell_type": "code",
   "execution_count": 71,
   "id": "44deebe9-6dca-4067-bcd7-2b2b7f0e572d",
   "metadata": {
    "tags": []
   },
   "outputs": [],
   "source": [
    "from bokeh.models import HoverTool\n",
    "\n",
    "p = figure(\n",
    "    y_range=(0, 10),\n",
    "    toolbar_location=None,\n",
    "    tools=[HoverTool()],\n",
    "    tooltips=\"Data point @x has the value @y\",\n",
    "    sizing_mode=\"stretch_width\",\n",
    "    max_width=500,\n",
    "    height=250,\n",
    ")\n",
    "\n",
    "# add renderers\n",
    "p.circle(x, y, size=10)\n",
    "p.line(x, y, line_width=2)\n",
    "\n",
    "# show the results\n",
    "show(p)"
   ]
  },
  {
   "cell_type": "markdown",
   "id": "9778aaeb-4534-4f94-a114-cd3b98104bdd",
   "metadata": {},
   "source": [
    "# 5. Vectorizing glyph properties\n",
    "In the previous first steps guide, you customized various aspects of your plot by adding and changing attributes.\n",
    "\n",
    "In this section, you will use vectors of data to influence aspects of your plot and its elements.\n",
    "\n"
   ]
  },
  {
   "cell_type": "markdown",
   "id": "bf5335a7-8c13-4f8c-bae1-187f2c7ad457",
   "metadata": {},
   "source": [
    "## 5.1. Vectorizing colors\n",
    "So far, you have assigned specific colors to a glyph by using properties such as fill_color.\n",
    "\n",
    "To change colors depending on values in a variable, pass a variable containing color information to the fill_color attribute:"
   ]
  },
  {
   "cell_type": "code",
   "execution_count": 72,
   "id": "2f67cfdc-fb1d-4ac8-a818-741b5545ecbc",
   "metadata": {
    "tags": []
   },
   "outputs": [],
   "source": [
    "# generate some data (1-10 for x, random values for y)\n",
    "x = list(range(0, 26))\n",
    "y = random.sample(range(0, 100), 26)\n",
    "\n",
    "# generate list of rgb hex colors in relation to y\n",
    "colors = [f\"#{255:02x}{int((value * 255) / 100):02x}{255:02x}\" for value in y]\n",
    "\n",
    "# create new plot\n",
    "p = figure(\n",
    "    title=\"Vectorized colors example\",\n",
    "    sizing_mode=\"stretch_width\",\n",
    "    max_width=500,\n",
    "    height=250,\n",
    ")\n",
    "\n",
    "# add circle and line renderers\n",
    "line = p.line(x, y, line_color=\"blue\", line_width=1)\n",
    "circle = p.circle(x, y, fill_color=colors, line_color=\"blue\", size=15)\n",
    "\n",
    "# show the results\n",
    "show(p)"
   ]
  },
  {
   "cell_type": "markdown",
   "id": "c746b882-0217-4ea5-bdf1-ad1736d0e46a",
   "metadata": {},
   "source": [
    "In this example, the color of every circle corresponds to the y value of that circle.\n",
    "\n"
   ]
  },
  {
   "cell_type": "markdown",
   "id": "d29d8549-742f-4bbe-a486-68f5dd4b1e64",
   "metadata": {},
   "source": [
    "## 5.2. Vectorizing colors and sizes\n",
    "To create a plot with colors and sizes in relation to your data, apply the same principle to the radius argument of your renderer:\n",
    "\n"
   ]
  },
  {
   "cell_type": "code",
   "execution_count": 73,
   "id": "e8cb0e4f-c005-4599-af70-9499d7d72ce6",
   "metadata": {
    "tags": []
   },
   "outputs": [],
   "source": [
    "import numpy as np\n",
    "\n",
    "# generate some data\n",
    "N = 1000\n",
    "x = np.random.random(size=N) * 100\n",
    "y = np.random.random(size=N) * 100\n",
    "\n",
    "# generate radii and colors based on data\n",
    "radii = y / 100 * 2\n",
    "colors = [f\"#{255:02x}{int((value * 255) / 100):02x}{255:02x}\" for value in y]\n",
    "\n",
    "# create a new plot with a specific size\n",
    "p = figure(\n",
    "    title=\"Vectorized colors and radii example\",\n",
    "    sizing_mode=\"stretch_width\",\n",
    "    max_width=500,\n",
    "    height=250,\n",
    ")\n",
    "\n",
    "# add circle renderer\n",
    "p.circle(\n",
    "    x,\n",
    "    y,\n",
    "    radius=radii,\n",
    "    fill_color=colors,\n",
    "    fill_alpha=0.6,\n",
    "    line_color=\"lightgrey\",\n",
    ")\n",
    "\n",
    "# show the results\n",
    "show(p)"
   ]
  },
  {
   "cell_type": "markdown",
   "id": "91c5ab29-696f-4b84-8bdb-ccc5afc4febf",
   "metadata": {},
   "source": [
    "In this example, the color and diameter of every circle correspond to the y value of that circle.\n",
    "\n"
   ]
  },
  {
   "cell_type": "markdown",
   "id": "0ac433a1-e06f-4583-bb43-213749e983a5",
   "metadata": {},
   "source": [
    "## 5.3. Color mapping with palettes\n",
    "Bokeh comes with dozens of pre-defined color palettes that you can use to map colors to your data. This includes palettes from Brewer, D3, or Matplotlib. See palettes for a list of all available palettes.\n",
    "\n",
    "First, use the linear_cmap() function to create a color map for your data. The required attributes for this function are:\n",
    "\n",
    "- field: the data sequence to map colors to\n",
    "- palette: the palette to use\n",
    "- low: the lowest value to map a color to\n",
    "- high: the highest value to map a color to\n",
    "\n",
    "Then assign your color mapper to the color parameter of your renderer:\n",
    "\n"
   ]
  },
  {
   "cell_type": "code",
   "execution_count": 75,
   "id": "39ce089c-8f8c-4ea9-8c85-bd736f311abd",
   "metadata": {
    "tags": []
   },
   "outputs": [],
   "source": [
    "from bokeh.io import show\n",
    "from bokeh.palettes import Turbo256\n",
    "from bokeh.plotting import figure\n",
    "from bokeh.transform import linear_cmap\n",
    "\n",
    "# generate data\n",
    "x = list(range(-32, 33))\n",
    "y = [i**2 for i in x]\n",
    "\n",
    "# create linear color mapper\n",
    "mapper = linear_cmap(field_name=\"y\", palette=Turbo256, low=min(y), high=max(y))\n",
    "\n",
    "# create plot\n",
    "p = figure(width=500, height=250)\n",
    "\n",
    "# create circle renderer with color mapper\n",
    "p.circle(x, y, color=mapper, size=10)\n",
    "\n",
    "show(p)"
   ]
  },
  {
   "cell_type": "markdown",
   "id": "97f8578a-3e7f-446f-b3ad-83652d9db2a3",
   "metadata": {},
   "source": [
    "# 6. Combining plots\n",
    "In the previous first steps guides, you created individual plots.\n",
    "\n",
    "In this section, you will combine several plots into different kinds of layouts."
   ]
  },
  {
   "cell_type": "markdown",
   "id": "efc448ee-0c21-4c33-b9b8-88f2ce1808ce",
   "metadata": {},
   "source": [
    "## 6.1. Creating rows, columns, and grids\n",
    "The easiest way to combine individual plots is to assign them to rows or columns.\n",
    "\n",
    "To combine several plots into a horizontal row layout, you first need to import row. Then use the row() function when calling show():\n"
   ]
  },
  {
   "cell_type": "code",
   "execution_count": 103,
   "id": "78d94fb3-06a1-4bb2-89b4-5b5246e66b74",
   "metadata": {
    "tags": []
   },
   "outputs": [],
   "source": [
    "from bokeh.layouts import row\n",
    "\n",
    "# prepare some data\n",
    "x = list(range(11))\n",
    "y0 = x\n",
    "y1 = [10 - i for i in x]\n",
    "y2 = [abs(i - 5) for i in x]\n",
    "\n",
    "# create three plots with one renderer each\n",
    "s1 = figure(width=250, height=250, background_fill_color=\"#fafafa\")\n",
    "s1.circle(x, y0, size=12, color=\"#53777a\", alpha=0.8)\n",
    "\n",
    "s2 = figure(width=250, height=250, background_fill_color=\"#fafafa\")\n",
    "s2.triangle(x, y1, size=12, color=\"#c02942\", alpha=0.8)\n",
    "\n",
    "s3 = figure(width=250, height=250, background_fill_color=\"#fafafa\")\n",
    "s3.square(x, y2, size=12, color=\"#d95b43\", alpha=0.8)\n",
    "\n",
    "# put the results in a row and show\n",
    "show(row(s1, s2, s3))"
   ]
  },
  {
   "cell_type": "markdown",
   "id": "bad092d2-5ef6-4cbd-8153-be59b178e21d",
   "metadata": {},
   "source": [
    "To display several plots in a vertical column layout, use the <b>column()</b> function instead.\n",
    "\n",
    "A more flexible way to arrange elements in Bokeh is to use the <b>gridplot()</b> function."
   ]
  },
  {
   "cell_type": "markdown",
   "id": "4f057033-c4c4-48ed-a269-0b34f75e44c8",
   "metadata": {},
   "source": [
    "## 6.2. Defining sizing behavior\n",
    "You can use the functions row(), column(), and gridplot() with additional arguments to define how Bokeh scales the individual plots. See sizing_mode for a list of all sizing modes that Bokeh supports.\n",
    "\n",
    "For example: To make all plots in a row responsively fill the available width of the browser window, assign scale_width to sizing_mode:"
   ]
  },
  {
   "cell_type": "code",
   "execution_count": 81,
   "id": "4d6c30b8-e921-4023-b4aa-e75005aff361",
   "metadata": {
    "tags": []
   },
   "outputs": [
    {
     "name": "stderr",
     "output_type": "stream",
     "text": [
      "BokehUserWarning: ColumnDataSource's columns must be of the same length. Current lengths: ('x', 5), ('y', 11)\n",
      "BokehUserWarning: ColumnDataSource's columns must be of the same length. Current lengths: ('x', 5), ('y', 11)\n",
      "BokehUserWarning: ColumnDataSource's columns must be of the same length. Current lengths: ('x', 5), ('y', 11)\n"
     ]
    }
   ],
   "source": [
    "# create three plots with one renderer each\n",
    "s1 = figure(width=250, height=250, background_fill_color=\"#fafafa\")\n",
    "s1.circle(x, y0, size=12, color=\"#53777a\", alpha=0.8)\n",
    "\n",
    "s2 = figure(width=250, height=250, background_fill_color=\"#fafafa\")\n",
    "s2.triangle(x, y1, size=12, color=\"#c02942\", alpha=0.8)\n",
    "\n",
    "s3 = figure(width=250, height=250, background_fill_color=\"#fafafa\")\n",
    "s3.square(x, y2, size=12, color=\"#d95b43\", alpha=0.8)\n",
    "\n",
    "# put the results in a row that automatically adjusts\n",
    "# to the browser window's width\n",
    "show(row(children=[s1, s2, s3], sizing_mode=\"scale_width\"))"
   ]
  },
  {
   "cell_type": "markdown",
   "id": "b5dfe1f5-cff9-4476-87e5-3ac6c0b403c6",
   "metadata": {},
   "source": [
    "# 7. Displaying and exporting\n",
    "In the previous first steps guides, you created, customized, and combined visualizations.\n",
    "\n",
    "In this section, you will use various methods to display and export your visualizations."
   ]
  },
  {
   "cell_type": "markdown",
   "id": "b1dca8cd-4acf-491c-b42e-0c2ff9dc4618",
   "metadata": {},
   "source": [
    "## 7.1. Creating a standalone HTML file\n",
    "All examples so far have used the show() function to save your visualization to an HTML file. This HTML file contains all the necessary information to display your plot.\n",
    "\n",
    "To customize the file Bokeh creates for your visualization, import and call the output_file() function. output_file() accepts various file-related arguments. For example:\n",
    "\n",
    "- filename: the filename for the HTML file\n",
    "- title: the title for you document (to be used in the HTML’s title tag)\n",
    "\n",
    "\n",
    "If you don’t use the output_file() function to define a custom file name, Bokeh defaults to using the file name of the currently running Python script for the filename of the HTML output. If a script filename is not available (for instance, in a Jupyter notebook), then Bokeh will generate a random filename.\n",
    "\n",
    "Bokeh creates the HTML file when you call the show() function. This function also automatically opens a web browser to display the HTML file.\n",
    "\n",
    "If you want Bokeh to only generate the file but not open it in a web browser, use the save() function instead.\n",
    "\n",
    "You need to import the save() and output_file() functions before using, just like you did for show()."
   ]
  },
  {
   "cell_type": "code",
   "execution_count": 80,
   "id": "596aedc0-7db9-4470-9470-9850ec04a1e2",
   "metadata": {
    "tags": []
   },
   "outputs": [
    {
     "data": {
      "text/plain": [
       "'C:\\\\Users\\\\victo\\\\source\\\\repos\\\\Semester 7\\\\JupyterLab\\\\Data Visualization\\\\custom_filename.html'"
      ]
     },
     "execution_count": 80,
     "metadata": {},
     "output_type": "execute_result"
    }
   ],
   "source": [
    "from bokeh.plotting import figure, output_file, save\n",
    "\n",
    "# prepare some data\n",
    "x = [1, 2, 3, 4, 5]\n",
    "y = [4, 5, 5, 7, 2]\n",
    "\n",
    "# set output to static HTML file\n",
    "output_file(filename=\"custom_filename.html\", title=\"Static HTML file\")\n",
    "\n",
    "# create a new plot with a specific size\n",
    "p = figure(sizing_mode=\"stretch_width\", max_width=500, height=250)\n",
    "\n",
    "# add a circle renderer\n",
    "circle = p.circle(x, y, fill_color=\"red\", size=15)\n",
    "\n",
    "# save the results to a file\n",
    "save(p)"
   ]
  },
  {
   "cell_type": "markdown",
   "id": "99a86818-028b-43d6-93ab-897ee78a2948",
   "metadata": {},
   "source": [
    "# 8. Providing and filtering data\n",
    "In the previous first steps guides, you used different methods to display and export your visualizations.\n",
    "\n",
    "In this section, you will use various sources and structures to import and filter data."
   ]
  },
  {
   "cell_type": "markdown",
   "id": "c9b1794b-4008-42b4-bcdc-00087a758c09",
   "metadata": {},
   "source": [
    "## 8.1. Using ColumnDataSource\n",
    "The ColumnDataSource is Bokeh’s own data structure. For details about the ColumnDataSource, see ColumnDataSource in the user guide.\n",
    "\n",
    "So far, you have used data sequences like Python lists and NumPy arrays to pass data to Bokeh. Bokeh has automatically converted these lists into ColumnDataSource objects for you.\n",
    "\n",
    "Follow these steps to create a ColumnDataSource directly:\n",
    "\n",
    "- First, import ColumnDataSource.\n",
    "- Next, create a dict with your data: The dict’s keys are the column names (strings). The dict’s values are lists or arrays of data.\n",
    "- Then, pass your dict as the data argument to ColumnDataSource:\n",
    "- You can then use your ColumnDataSource as source for your renderer."
   ]
  },
  {
   "cell_type": "code",
   "execution_count": 90,
   "id": "f3caefb5-75c7-4018-879e-2c7fe0f22b01",
   "metadata": {
    "tags": []
   },
   "outputs": [],
   "source": [
    "from bokeh.plotting import figure\n",
    "from bokeh.models import ColumnDataSource\n",
    "\n",
    "# create dict as basis for ColumnDataSource\n",
    "data = {'x_values': [1, 2, 3, 4, 5],\n",
    "        'y_values': [6, 7, 2, 3, 6]}\n",
    "\n",
    "# create ColumnDataSource based on dict\n",
    "source = ColumnDataSource(data=data)\n",
    "\n",
    "# create a plot and renderer with ColumnDataSource data\n",
    "p = figure()\n",
    "p.circle(x='x_values', y='y_values', source=source)\n",
    "show(p)"
   ]
  },
  {
   "cell_type": "markdown",
   "id": "cd89f111-2023-466a-b5b3-208bab779142",
   "metadata": {},
   "source": [
    "## 8.2. Converting pandas data\n",
    "To use data from a pandas DataFrame, pass your pandas data to a ColumnDataSource:"
   ]
  },
  {
   "cell_type": "code",
   "execution_count": null,
   "id": "dc22c94c-53c7-4106-b483-09c0f6aaefbc",
   "metadata": {},
   "outputs": [],
   "source": [
    "source = ColumnDataSource(df)"
   ]
  },
  {
   "cell_type": "markdown",
   "id": "4cd9961d-4e03-4368-9424-85ce45d158e1",
   "metadata": {},
   "source": [
    "## 8.3. Filtering data\n",
    "Bokeh comes with various filtering methods. Use these filters if you want to create a specific subset of the data contained in your ColumnDataSource.\n",
    "\n",
    "In Bokeh, these filtered subsets are called “views”. Views are represented by Bokeh’s CDSView class.\n",
    "\n",
    "To plot with a filtered subset of data, pass a CDSView object to the view argument of your renderer.\n",
    "\n",
    "A CDSView object has one property:\n",
    "\n",
    "- filter: an instance of Filter models\n",
    "\n",
    "The simplest filter is the IndexFilter. An IndexFilter uses a list of index positions and creates a view that contains nothing but the data points located at those index positions.\n",
    "\n",
    "For example, if your ColumnDataSource contains a list of five values and you apply an IndexFilter with [0,2,4], the resulting view contains only the first, the third, and the fifth value of your original list:\n",
    "\n"
   ]
  },
  {
   "cell_type": "code",
   "execution_count": 91,
   "id": "c69e10ee-7488-4894-ace7-7e4b4e24280e",
   "metadata": {
    "tags": []
   },
   "outputs": [],
   "source": [
    "from bokeh.layouts import gridplot\n",
    "from bokeh.models import CDSView, ColumnDataSource, IndexFilter\n",
    "from bokeh.plotting import figure, show\n",
    "\n",
    "# create ColumnDataSource from a dict\n",
    "source = ColumnDataSource(data=dict(x=[1, 2, 3, 4, 5], y=[1, 2, 3, 4, 5]))\n",
    "\n",
    "# create a view using an IndexFilter with the index positions [0, 2, 4]\n",
    "view = CDSView(filter=IndexFilter([0, 2, 4]))\n",
    "\n",
    "# setup tools\n",
    "tools = [\"box_select\", \"hover\", \"reset\"]\n",
    "\n",
    "# create a first plot with all data in the ColumnDataSource\n",
    "p = figure(height=300, width=300, tools=tools)\n",
    "p.circle(x=\"x\", y=\"y\", size=10, hover_color=\"red\", source=source)\n",
    "\n",
    "# create a second plot with a subset of ColumnDataSource, based on view\n",
    "p_filtered = figure(height=300, width=300, tools=tools)\n",
    "p_filtered.circle(x=\"x\", y=\"y\", size=10, hover_color=\"red\", source=source, view=view)\n",
    "\n",
    "# show both plots next to each other in a gridplot layout\n",
    "show(gridplot([[p, p_filtered]]))"
   ]
  },
  {
   "cell_type": "markdown",
   "id": "34a1e2d4-0f60-4246-9d58-857eb7ae522a",
   "metadata": {},
   "source": [
    "# 9. Using widgets\n",
    "In the previous first steps guides, you used different sources and structures to import and filter data.\n",
    "\n",
    "In this section, you will add interactive widgets to your plots."
   ]
  },
  {
   "cell_type": "markdown",
   "id": "a50d3da0-be2b-40db-842b-70772de9bdf1",
   "metadata": {},
   "source": [
    "## 9.1. Adding widgets\n",
    "Widgets are additional visual elements that you can include in your visualization. Use widgets to display additional information or to interactively control elements of your Bokeh document.\n",
    "\n",
    "This Bokeh document combines a plot with three widgets:\n",
    "\n",
    "- A <b>Div</b> widget to display HTML text\n",
    "- A <b>Spinner</b> widget to select a numeric value\n",
    "- A <b>RangeSlider</b> widget to adjust a range\n",
    "\n",
    "See Bokeh’s built-in widgets in the user guide for a complete list of Bokeh’s widgets.\n",
    "\n",
    "Follow these steps to recreate the example from above:\n",
    "\n"
   ]
  },
  {
   "cell_type": "markdown",
   "id": "ded7df34-48c8-4dfb-9672-646497cabb17",
   "metadata": {},
   "source": [
    "1. Import the Div, RangeSlider, and Spinner widgets from bokeh.models:"
   ]
  },
  {
   "cell_type": "code",
   "execution_count": 92,
   "id": "ca81d16b-f38c-4d0a-98e4-42ccfdaba940",
   "metadata": {
    "tags": []
   },
   "outputs": [],
   "source": [
    "from bokeh.models import Div, RangeSlider, Spinner"
   ]
  },
  {
   "cell_type": "markdown",
   "id": "db5c0f73-1d30-4e01-b364-e56216eae57c",
   "metadata": {},
   "source": [
    "2. Set up your data, your figure, and your renderer:"
   ]
  },
  {
   "cell_type": "code",
   "execution_count": 93,
   "id": "297478c7-3042-4be5-a558-dfbdc40ed274",
   "metadata": {
    "tags": []
   },
   "outputs": [],
   "source": [
    "x = [1, 2, 3, 4, 5, 6, 7, 8, 9, 10]\n",
    "y = [4, 5, 5, 7, 2, 6, 4, 9, 1, 3]\n",
    "\n",
    "p = figure(x_range=(1,9), width=500, height=250)\n",
    "points = p.circle(x=x, y=y, size=30, fill_color=\"#21a7df\")"
   ]
  },
  {
   "cell_type": "markdown",
   "id": "7d971a6c-bbd2-4b1b-88f5-6a848961b698",
   "metadata": {},
   "source": [
    "3. Create a Div object and pass it some HTML code as a string:"
   ]
  },
  {
   "cell_type": "code",
   "execution_count": 95,
   "id": "7745c897-0e80-46ef-b71b-1d92371f62d8",
   "metadata": {
    "tags": []
   },
   "outputs": [],
   "source": [
    "div = Div(\n",
    "    text=\"\"\"\n",
    "        <p>Select the circle's size using this control element:</p>\n",
    "        \"\"\",\n",
    "    width=200,\n",
    "    height=30,\n",
    ")"
   ]
  },
  {
   "cell_type": "markdown",
   "id": "e16dc2a7-d6b7-4a96-a0c1-7641af0ed7b0",
   "metadata": {},
   "source": [
    "4. Create a Spinner object:"
   ]
  },
  {
   "cell_type": "code",
   "execution_count": 96,
   "id": "4337e335-8c0f-47a7-8fcf-5be7e1d4ffab",
   "metadata": {
    "tags": []
   },
   "outputs": [],
   "source": [
    "spinner = Spinner(\n",
    "    title=\"Circle size\",  # a string to display above the widget\n",
    "    low=0,  # the lowest possible number to pick\n",
    "    high=60,  # the highest possible number to pick\n",
    "    step=5,  # the increments by which the number can be adjusted\n",
    "    value=points.glyph.size,  # the initial value to display in the widget\n",
    "    width=200,  #  the width of the widget in pixels\n",
    "    )"
   ]
  },
  {
   "cell_type": "markdown",
   "id": "b89d60e3-92c6-4c59-a947-a8d514e3dc53",
   "metadata": {},
   "source": [
    "5. To link the value generated by the spinner to the size property of your glyph, use the js_link() function. This function uses JavaScript to interactively link two Bokeh models. The first argument you pass to this function is the attribute of your spinner (\"value\") that you want to link to your circle glyphs. The second attribute is the glyph you want to link to your spinner (points.glyph). The third argument is the property of your glyph that you want to link to your spinner’s value:"
   ]
  },
  {
   "cell_type": "code",
   "execution_count": 97,
   "id": "f2bd04a8-9f03-4f46-969f-c1e0fbbab3cf",
   "metadata": {
    "tags": []
   },
   "outputs": [],
   "source": [
    "spinner.js_link(\"value\", points.glyph, \"size\")"
   ]
  },
  {
   "cell_type": "markdown",
   "id": "51f1d5c3-3a0c-4680-ba9c-45e49a1c98ed",
   "metadata": {},
   "source": [
    "6. Create a RangeSlider object:"
   ]
  },
  {
   "cell_type": "code",
   "execution_count": 98,
   "id": "5fdc460c-20ce-493e-bc1e-1eff390049cd",
   "metadata": {
    "tags": []
   },
   "outputs": [],
   "source": [
    "range_slider = RangeSlider(\n",
    "    title=\"Adjust x-axis range\", # a title to display above the slider\n",
    "    start=0,  # set the minimum value for the slider\n",
    "    end=10,  # set the maximum value for the slider\n",
    "    step=1,  # increments for the slider\n",
    "    value=(p.x_range.start, p.x_range.end),  # initial values for slider\n",
    "    )"
   ]
  },
  {
   "cell_type": "markdown",
   "id": "6f24a4dc-41ac-433c-b741-a38b77ae4e47",
   "metadata": {},
   "source": [
    "7. To link the values generated by the RangeSlider to the existing plot, use the js_link() function again. This time, however, you need to assign two values at once: the beginning of the plot’s x-axis and the end of its x-axis. The RangeSlider returns a tuple of those two values. Therefore, you need to use the attr_selector of the js_link() function to tell Bokeh which part of the Tuple to assign to either the start or the end of the plot’s x-axis:"
   ]
  },
  {
   "cell_type": "code",
   "execution_count": 99,
   "id": "4c0a7eab-6bb1-436c-a9f2-0a46dfadf875",
   "metadata": {
    "tags": []
   },
   "outputs": [],
   "source": [
    "range_slider.js_link(\"value\", p.x_range, \"start\", attr_selector=0)\n",
    "range_slider.js_link(\"value\", p.x_range, \"end\", attr_selector=1)"
   ]
  },
  {
   "cell_type": "markdown",
   "id": "bee36575-7884-4b23-bd24-9830cd2ebddd",
   "metadata": {},
   "source": [
    "8. Create a layout with all the elements of your dashboard and display it in a browser:\n",
    "\n"
   ]
  },
  {
   "cell_type": "code",
   "execution_count": 101,
   "id": "00521022-4ac6-4ec2-baa4-369e3dead673",
   "metadata": {
    "tags": []
   },
   "outputs": [],
   "source": [
    "from bokeh.layouts import layout\n",
    "layout = layout([\n",
    "    [div, spinner],\n",
    "    [range_slider],\n",
    "    [p],\n",
    "])\n",
    "\n",
    "show(layout)"
   ]
  }
 ],
 "metadata": {
  "kernelspec": {
   "display_name": "Python 3 (ipykernel)",
   "language": "python",
   "name": "python3"
  },
  "language_info": {
   "codemirror_mode": {
    "name": "ipython",
    "version": 3
   },
   "file_extension": ".py",
   "mimetype": "text/x-python",
   "name": "python",
   "nbconvert_exporter": "python",
   "pygments_lexer": "ipython3",
   "version": "3.8.0"
  }
 },
 "nbformat": 4,
 "nbformat_minor": 5
}
